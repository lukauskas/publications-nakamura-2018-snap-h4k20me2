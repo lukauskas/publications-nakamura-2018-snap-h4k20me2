{
 "cells": [
  {
   "cell_type": "code",
   "execution_count": 1,
   "metadata": {
    "ExecuteTime": {
     "end_time": "2017-10-24T10:03:25.813162Z",
     "start_time": "2017-10-24T10:03:23.963996Z"
    }
   },
   "outputs": [],
   "source": [
    "%config InlineBackend.figure_format = 'retina'\n",
    "%matplotlib inline\n",
    "import pandas as pd\n",
    "import numpy as np\n",
    "import seaborn as sns\n",
    "from matplotlib import pyplot as plt\n",
    "from tqdm import tqdm\n",
    "import os\n",
    "sns.set_palette('Dark2')\n",
    "sns.set_style({'axes.axisbelow': True, 'axes.edgecolor': '.15', 'axes.facecolor': 'white',\n",
    "               'axes.grid': True, 'axes.labelcolor': '.15', 'axes.linewidth': 1.25, \n",
    "               'figure.facecolor': 'white', 'font.family': ['sans-serif'], 'grid.color': '.15',\n",
    "               'grid.linestyle': ':', 'grid.alpha': .5, 'image.cmap': 'Greys', \n",
    "               'legend.frameon': False, 'legend.numpoints': 1, 'legend.scatterpoints': 1,\n",
    "               'lines.solid_capstyle': 'round', 'axes.spines.right': False, 'axes.spines.top': False,  \n",
    "               'text.color': '.15',  'xtick.top': False, 'ytick.right': False, 'xtick.color': '.15',\n",
    "               'xtick.direction': 'out', 'xtick.major.size': 6, 'xtick.minor.size': 3,\n",
    "               'ytick.color': '.15', 'ytick.direction': 'out', 'ytick.major.size': 6,'ytick.minor.size': 3})\n",
    "sns.set_context('talk')"
   ]
  },
  {
   "cell_type": "code",
   "execution_count": 2,
   "metadata": {},
   "outputs": [],
   "source": [
    "import xlsxwriter"
   ]
  },
  {
   "cell_type": "code",
   "execution_count": 3,
   "metadata": {},
   "outputs": [],
   "source": [
    "RANDOM_STATE = 71117\n",
    "OUTPUT_DIR = '/output'\n",
    "DATA_DIR = '/data'"
   ]
  },
  {
   "cell_type": "markdown",
   "metadata": {},
   "source": [
    "# Load the dataset"
   ]
  },
  {
   "cell_type": "code",
   "execution_count": 4,
   "metadata": {},
   "outputs": [],
   "source": [
    "with open(os.path.join(DATA_DIR, 'external', 'interpro', 'ank-repeat-proteins.txt')) as f:\n",
    "    ank_repeat_ids = frozenset(map(lambda x: x.strip(), f.readlines()))"
   ]
  },
  {
   "cell_type": "code",
   "execution_count": 5,
   "metadata": {
    "ExecuteTime": {
     "end_time": "2017-10-24T10:04:13.290888Z",
     "start_time": "2017-10-24T10:04:13.234146Z"
    }
   },
   "outputs": [],
   "source": [
    "data = pd.read_table(os.path.join(DATA_DIR, 'raw/proteinGroups.txt.gz')).set_index('Protein IDs')"
   ]
  },
  {
   "cell_type": "markdown",
   "metadata": {},
   "source": [
    "First, log2 the ratios"
   ]
  },
  {
   "cell_type": "code",
   "execution_count": 6,
   "metadata": {},
   "outputs": [],
   "source": [
    "COL_RATIO_FORWARD = 'Ratio H/L normalized F'\n",
    "COL_RATIO_REVERSE = 'Ratio H/L normalized R'\n",
    "\n",
    "COL_RATIO_LOG2_FORWARD = 'Ratio H/L normalized F (log2)'\n",
    "COL_RATIO_LOG2_REVERSE = 'Ratio H/L normalized R (log2)'\n",
    "\n",
    "data[COL_RATIO_LOG2_FORWARD] = data[COL_RATIO_FORWARD].apply(np.log2)\n",
    "data[COL_RATIO_LOG2_REVERSE] = data[COL_RATIO_REVERSE].apply(np.log2)"
   ]
  },
  {
   "cell_type": "markdown",
   "metadata": {},
   "source": [
    "Annotate proteins that contain ANK repeat"
   ]
  },
  {
   "cell_type": "code",
   "execution_count": 7,
   "metadata": {},
   "outputs": [],
   "source": [
    "data['Contains ANK repeat'] = data['Majority protein IDs'].str.split(';', expand=True).stack().isin(ank_repeat_ids).groupby('Protein IDs').any()"
   ]
  },
  {
   "cell_type": "markdown",
   "metadata": {},
   "source": [
    "Identify potential misidentifications:"
   ]
  },
  {
   "cell_type": "code",
   "execution_count": 8,
   "metadata": {},
   "outputs": [],
   "source": [
    "columns_to_filter = ['Potential contaminant', 'Reverse', 'Only identified by site']\n",
    "potentially_misentified = pd.Series(False, index=data.index)\n",
    "\n",
    "for column in columns_to_filter:\n",
    "    potentially_misentified |= data[column] == '+'\n",
    "    \n",
    "data['Potentially misidentified'] = potentially_misentified"
   ]
  },
  {
   "cell_type": "markdown",
   "metadata": {},
   "source": [
    "Find out which proteins have both ratios in the dataset"
   ]
  },
  {
   "cell_type": "code",
   "execution_count": 9,
   "metadata": {
    "ExecuteTime": {
     "end_time": "2017-10-24T10:06:48.819709Z",
     "start_time": "2017-10-24T10:06:48.814387Z"
    }
   },
   "outputs": [],
   "source": [
    "data['Has both ratios'] = (~data[[COL_RATIO_LOG2_FORWARD, COL_RATIO_LOG2_REVERSE]].isnull()).all(axis=1)"
   ]
  },
  {
   "cell_type": "markdown",
   "metadata": {},
   "source": [
    "Remove proteins that are not interesting"
   ]
  },
  {
   "cell_type": "code",
   "execution_count": 10,
   "metadata": {},
   "outputs": [
    {
     "name": "stdout",
     "output_type": "stream",
     "text": [
      "Artefact! Removing 26/1,437 (1.81%) proteins as they are potential misidentifications\n",
      "Artefact! Removing 76/1,411 (5.39%) proteins as they do not have both F and R ratios\n"
     ]
    }
   ],
   "source": [
    "data.to_csv(os.path.join(OUTPUT_DIR, 'dataset.full.csv'))\n",
    "\n",
    "len_before = len(data)\n",
    "data = data[~data['Potentially misidentified']]\n",
    "len_after = len(data)\n",
    "\n",
    "print('Artefact! Removing {:,}/{:,} ({:.2%}) proteins as they are potential misidentifications'.format(len_before - len_after,\n",
    "                                                                                                       len_before,\n",
    "                                                                                                       (len_before - len_after) / len_before\n",
    "                                                                                                       ))\n",
    "len_before = len(data)\n",
    "data = data[data['Has both ratios']]\n",
    "len_after = len(data)\n",
    "\n",
    "print('Artefact! Removing {:,}/{:,} ({:.2%}) proteins as they do not have both F and R ratios'.format(len_before - len_after,\n",
    "                                                                                                       len_before,\n",
    "                                                                                                       (len_before - len_after) / len_before\n",
    "                                                                                                       ))\n"
   ]
  },
  {
   "cell_type": "markdown",
   "metadata": {},
   "source": [
    "ANK repeat containing genes"
   ]
  },
  {
   "cell_type": "code",
   "execution_count": 11,
   "metadata": {},
   "outputs": [
    {
     "data": {
      "text/plain": [
       "False    1323\n",
       "True       12\n",
       "Name: Contains ANK repeat, dtype: int64"
      ]
     },
     "execution_count": 11,
     "metadata": {},
     "output_type": "execute_result"
    }
   ],
   "source": [
    "data['Contains ANK repeat'].value_counts()"
   ]
  },
  {
   "cell_type": "code",
   "execution_count": 12,
   "metadata": {},
   "outputs": [
    {
     "data": {
      "text/plain": [
       "BCORL1      2\n",
       "EHMT1       1\n",
       "BCOR        1\n",
       "ANKRD11     1\n",
       "MPHOSPH8    1\n",
       "BARD1       1\n",
       "EHMT2       1\n",
       "RFXANK      1\n",
       "NFKBIL1     1\n",
       "ANKRD32     1\n",
       "TONSL       1\n",
       "Name: Gene names, dtype: int64"
      ]
     },
     "execution_count": 12,
     "metadata": {},
     "output_type": "execute_result"
    }
   ],
   "source": [
    "data.loc[data['Contains ANK repeat'], 'Gene names'].value_counts()"
   ]
  },
  {
   "cell_type": "markdown",
   "metadata": {},
   "source": [
    "Annotate interesting protein groups"
   ]
  },
  {
   "cell_type": "code",
   "execution_count": 13,
   "metadata": {},
   "outputs": [],
   "source": [
    "GROUP_ANNOTATIONS = {\n",
    "    \n",
    "     # BRCA1\n",
    "    'BRCA1': 'BRCA1',\n",
    "    'FAM175A': 'BRCA1',\n",
    "    'BARD1': 'BRCA1',\n",
    "    'BRE': 'BRCA1', # labelled as BRCC45\n",
    "    'UIMC1': 'BRCA1', # labelled as RAP80\n",
    "    'FAM175A': 'BRCA1', # labelled as ABRAXAS1\n",
    "    'BRCC3': 'BRCA1', # labelled as BRCC36,\n",
    "    'BABAM1': 'BRCA1', # labelled as MERIT40\n",
    "    \n",
    "    # RAD18/SLF\n",
    "    'RAD18': 'RAD18/SLF',  # Labelled as RAD18/RNF73\n",
    "    'ANKRD32': 'RAD18/SLF', # Labelled as SLF1/ANKRD32,\n",
    "    'FAM178A': 'RAD18/SLF', # Labelled as SLF2/FAM178A\n",
    "    \n",
    "    # TONSL\n",
    "    'TONSL': 'TONSL',\n",
    "    #'MMS22L': 'TONSL' # Not in the data :(\n",
    "    \n",
    "    \n",
    "    # ORC\n",
    "    'ORC1': 'ORC',\n",
    "    'ORC2': 'ORC',\n",
    "    'ORC3': 'ORC',\n",
    "    'ORC4': 'ORC',\n",
    "    'ORC5': 'ORC',\n",
    "    #'ORC6': 'ORC',\n",
    "    'LRWD1': 'ORC'\n",
    "}"
   ]
  },
  {
   "cell_type": "code",
   "execution_count": 14,
   "metadata": {},
   "outputs": [],
   "source": [
    "data['Protein group'] = data['Gene names'].apply(lambda x: GROUP_ANNOTATIONS.get(x, 'Other'))"
   ]
  },
  {
   "cell_type": "markdown",
   "metadata": {},
   "source": [
    "Create a set of labels"
   ]
  },
  {
   "cell_type": "code",
   "execution_count": 15,
   "metadata": {},
   "outputs": [],
   "source": [
    "data['Label'] = data['Gene names']\n",
    "data.loc[data['Label'].isnull(), 'Label'] = data.loc[data['Label'].isnull(), 'Majority protein IDs'] "
   ]
  },
  {
   "cell_type": "code",
   "execution_count": 16,
   "metadata": {},
   "outputs": [],
   "source": [
    "LABEL_REPLACEMENT = {\n",
    "    \n",
    "     # BRCA1 members\n",
    "    'BRE': 'BRCC45',\n",
    "    'UIMC1': 'RAP80',\n",
    "    'FAM175A': 'ABRAXAS1',\n",
    "    'BRCC3': 'BRCC36',\n",
    "    'BABAM1': 'MERIT40',\n",
    "    \n",
    "     # RAD18/SLF members\n",
    "     'RAD18': 'RAD18/RNF73',\n",
    "     'ANKRD32': 'SLF1/ANKRD32',\n",
    "     'FAM178A': 'SLF2/FAM178A',\n",
    "    \n",
    "     # Histones\n",
    "    'HIST1H2AD;HIST1H2AJ;HIST1H2AH;H2AFJ;HIST1H2AG;HIST2H2AC;HIST2H2AA3;H2AFX': 'H2A¹',\n",
    "    'HIST3H2A;HIST1H2AB;HIST1H2AC': 'H2A²',\n",
    "    'H2AFV;H2AFZ': 'H2A³', \n",
    "    'HIST1H3A;HIST2H3A;HIST3H3;HIST2H3PS2': 'H3',\n",
    "    'HIST1H4A': 'H4',\n",
    "    'HIST1H2BK;H2BFS': 'H2B¹',\n",
    "    'HIST1H2BC': 'H2B²',\n",
    "    \n",
    "    \n",
    "}"
   ]
  },
  {
   "cell_type": "code",
   "execution_count": 17,
   "metadata": {},
   "outputs": [],
   "source": [
    "data['Label'] = data['Label'].apply(lambda x: LABEL_REPLACEMENT.get(x, x))"
   ]
  },
  {
   "cell_type": "code",
   "execution_count": 18,
   "metadata": {},
   "outputs": [],
   "source": [
    "data.loc[data['Contains ANK repeat'], 'Label'] = '*' + data.loc[data['Contains ANK repeat'], 'Label']"
   ]
  },
  {
   "cell_type": "markdown",
   "metadata": {},
   "source": [
    "Change the order of columns as it makes more sense in the output"
   ]
  },
  {
   "cell_type": "code",
   "execution_count": 19,
   "metadata": {},
   "outputs": [],
   "source": [
    "PRIORITY_COLUMNS = ['Label', 'Gene names', 'Protein names', 'Protein group', \n",
    "                    'Contains ANK repeat', 'Potentially misidentified', 'Has both ratios',\n",
    "                    COL_RATIO_LOG2_FORWARD, COL_RATIO_LOG2_REVERSE]\n",
    "\n",
    "\n",
    "data = data[PRIORITY_COLUMNS + list(data.columns.difference(PRIORITY_COLUMNS))]"
   ]
  },
  {
   "cell_type": "markdown",
   "metadata": {},
   "source": [
    "Sort data by max(abs(forward, reverse)))"
   ]
  },
  {
   "cell_type": "code",
   "execution_count": 20,
   "metadata": {},
   "outputs": [],
   "source": [
    "data = data.loc[data[[COL_RATIO_LOG2_FORWARD, COL_RATIO_LOG2_REVERSE]].abs().max(axis=1).sort_values(ascending=False).index]"
   ]
  },
  {
   "cell_type": "markdown",
   "metadata": {},
   "source": [
    "Write CSV"
   ]
  },
  {
   "cell_type": "code",
   "execution_count": 21,
   "metadata": {},
   "outputs": [],
   "source": [
    "data.to_csv(os.path.join(OUTPUT_DIR, 'data.processed.csv'))"
   ]
  },
  {
   "cell_type": "markdown",
   "metadata": {},
   "source": [
    "# Scatterplot"
   ]
  },
  {
   "cell_type": "markdown",
   "metadata": {},
   "source": [
    "## Plotting, main figure"
   ]
  },
  {
   "cell_type": "code",
   "execution_count": 22,
   "metadata": {},
   "outputs": [],
   "source": [
    "%load_ext rpy2.ipython"
   ]
  },
  {
   "cell_type": "code",
   "execution_count": 23,
   "metadata": {},
   "outputs": [
    {
     "name": "stderr",
     "output_type": "stream",
     "text": [
      "/usr/local/lib/python3.6/site-packages/rpy2/rinterface/__init__.py:145: RRuntimeWarning: Loading required package: ggplot2\n",
      "\n",
      "  warnings.warn(x, RRuntimeWarning)\n",
      "/usr/local/lib/python3.6/site-packages/rpy2/rinterface/__init__.py:145: RRuntimeWarning: Loading required package: ggrepel\n",
      "\n",
      "  warnings.warn(x, RRuntimeWarning)\n",
      "/usr/local/lib/python3.6/site-packages/rpy2/rinterface/__init__.py:145: RRuntimeWarning: Loading required package: ggExtra\n",
      "\n",
      "  warnings.warn(x, RRuntimeWarning)\n",
      "/usr/local/lib/python3.6/site-packages/rpy2/rinterface/__init__.py:145: RRuntimeWarning: Loading required package: grid\n",
      "\n",
      "  warnings.warn(x, RRuntimeWarning)\n"
     ]
    }
   ],
   "source": [
    "%%R\n",
    "require('ggplot2')\n",
    "require('ggrepel')\n",
    "require('ggExtra')\n",
    "require('grid')"
   ]
  },
  {
   "cell_type": "code",
   "execution_count": 24,
   "metadata": {},
   "outputs": [],
   "source": [
    "%%R\n",
    "source('scatterplot.R')"
   ]
  },
  {
   "cell_type": "code",
   "execution_count": 25,
   "metadata": {},
   "outputs": [],
   "source": [
    "COL_X = COL_RATIO_LOG2_FORWARD\n",
    "COL_Y = COL_RATIO_LOG2_REVERSE\n",
    "COL_LABEL = 'Label'\n",
    "COL_GROUP = 'Protein group'\n",
    "COL_GENE = 'Gene names'\n",
    "COL_ANK_REPEAT = 'Contains ANK repeat'\n",
    "\n",
    "LABEL_PLOT_THRESHOLD = 1.4\n",
    "\n",
    "def prepare_data_for_plot(limits):\n",
    "\n",
    "    # Smaller df -> faster load into R\n",
    "    # Also renaming the columns as python deals with the names much better than R does\n",
    "\n",
    "    df_plot = data[[COL_X, COL_Y, COL_LABEL, COL_GROUP, COL_GENE, COL_ANK_REPEAT]].copy()\n",
    "    df_plot = df_plot.rename(columns={COL_X: 'x',\n",
    "                                      COL_Y: 'y',\n",
    "                                      COL_GENE: 'gene',\n",
    "                                      COL_LABEL: 'label',\n",
    "                                      COL_GROUP: 'group',\n",
    "                                      COL_ANK_REPEAT: 'ank_repeat'})\n",
    "\n",
    "\n",
    "\n",
    "    out_of_limits_mask = ~(df_plot['x'].between(*limits) & df_plot['y'].between(*limits))\n",
    "    out_of_limits = df_plot[out_of_limits_mask]\n",
    "\n",
    "    if len(out_of_limits):\n",
    "        print('{:,} proteins out of plot limits: '.format(len(out_of_limits)))\n",
    "\n",
    "        for ix, row in out_of_limits.iterrows():\n",
    "           print('   {} (x={:.4f}, y={:.4f})'.format(row['label'], row['x'], row['y']))\n",
    "\n",
    "        # remove these from DF (ggMarginal breaks otherwise)\n",
    "        df_plot = df_plot[~out_of_limits_mask]\n",
    "\n",
    "    \n",
    "\n",
    "    # Set up which labels to show:\n",
    "    df_plot['label_fancy'] = df_plot['label'].copy()\n",
    "    df_plot.loc[df_plot['group'] == 'Other', 'label_fancy'] = ''\n",
    "\n",
    "    ADDITIONAL_GENES_TO_SHOW = {'LSM7', 'PAX6', 'TLX3', 'HIST3H2A;HIST1H2AB;HIST1H2AC', 'DNMT1', 'CPSF7', 'TTN', 'INO80E', 'E2F6', 'FIZ1'}\n",
    "\n",
    "    normal_label_mask = (df_plot['x'].abs() >= LABEL_PLOT_THRESHOLD) | (df_plot['y'].abs() >= LABEL_PLOT_THRESHOLD)\n",
    "    normal_label_mask |= df_plot['gene'].isin(ADDITIONAL_GENES_TO_SHOW)\n",
    "\n",
    "    # Some genes in the list above do have multiple copies.\n",
    "    # Do not show the ones that are essentially zero:\n",
    "\n",
    "    bad_copies = [\n",
    "                 # PAX6\n",
    "                 'A0A1W2PQL7;A0A1W2PRA4;A0A1W2PS91;A0A1W2PPN2;A0A1W2PPM5;B1B1I8;A0A1X7SBT0;B1B1I9;A0A1W2PRG3;A0A1W2PQW3;B1B1J0;A0A1W2PR58;A0A1W2PRW7;A0A1W2PSB5;A0A1W2PQG3;A0A1W2PPG3;A0A1W2PP89;A0A1W2PP27;A0A1W2PRU4;A0A1W2PQJ8;A0A1W2PQ31;A0A1W2PNS7;A0A1W2PPJ2;A0A1W2PPH0;A0A1W2PRA8;A0A1W2PRH6',\n",
    "                 # DNMT1\n",
    "                'P26358;K7EJL0;K7ENW7;K7EMU8;K7ENQ6;K7EIZ6;K7ERQ1'\n",
    "                 ]\n",
    "\n",
    "    normal_label_mask.loc[bad_copies] = False\n",
    "    # Do not label the original points twice\n",
    "    normal_label_mask &= (df_plot['group'] == 'Other')\n",
    "\n",
    "    df_plot['label_normal'] = df_plot['label'].copy()\n",
    "    df_plot.loc[~normal_label_mask, 'label_normal'] = ''\n",
    "\n",
    "    df_plot['label_all'] = df_plot['label_fancy'].copy()\n",
    "    df_plot.loc[df_plot['label_fancy'] == '', 'label_all'] = df_plot.loc[df_plot['label_fancy'] == '', 'label_normal']\n",
    "\n",
    "    df_plot['fontface'] = df_plot['ank_repeat'].apply(lambda x: 'bold' if x else 'plain')\n",
    "\n",
    "    df_plot['nudge_x'] = 0\n",
    "    df_plot['nudge_y'] = 0.25\n",
    "    \n",
    "    MANUAL_NUDGES = {'ORC5': [0.0, 0.25],\n",
    "                     '*SLF1/ANKRD32': [-0.5, 0.25],\n",
    "                     'RAD18/RNF73': [-1.2, 0],\n",
    "                     '*TONSL': [-0.8, 0],\n",
    "                     'SLF2/FAM178A': [-1.3, 0],\n",
    "                     'RAP80': [0.1, -0.25],\n",
    "                     'MERIT40': [-0.62, -0.5],\n",
    "                     'ABRAXAS1': [-1.2, -0.25],\n",
    "                     '*BARD1': [-1.0, 0.25],\n",
    "                     'BRCA1': [0, 0.43],\n",
    "                     'BRCC45': [0.2, 0.4],\n",
    "                     'BRCC36': [0.35, 0.83],\n",
    "                     'LRWD1': [0, -0.25],\n",
    "                     'ORC1': [0, -0.25],\n",
    "                     'ORC3': [-0.52, 0.28],\n",
    "                     'ORC2': [0.22, 0.37],\n",
    "                     'CHD1L': [0.25, 0.25],\n",
    "                     'H2A¹': [0.25, 0.25],\n",
    "                     'H2B²': [0.3, 0],\n",
    "                     'TTN': [0, -0.25],\n",
    "                     'TIMM9': [0, -0.25],\n",
    "                     'POLR3E': [0.5, 0],\n",
    "                     'CPSF7': [0.35, 0],\n",
    "                     'INO80E': [0, -0.3],\n",
    "                     'E2F6': [0, -0.25],\n",
    "                     'FIZ1': [-0.4, 0]\n",
    "                     }\n",
    "    \n",
    "    for key, nudge in MANUAL_NUDGES.items():\n",
    "        assert (df_plot['label'] == key).any(), key\n",
    "        \n",
    "        df_plot.loc[df_plot['label'] == key, ['nudge_x', 'nudge_y']] = nudge\n",
    "\n",
    "    # Add some fake datapoints on x=0 and y=0 lines so labels are not placed there\n",
    "\n",
    "    fake_points = np.linspace(limits[0], limits[1], 100)\n",
    "    fake_data = []\n",
    "\n",
    "    for point in fake_points:\n",
    "\n",
    "        d = {'label': '', 'label_all': '', 'label_fancy': '', 'group': 'fake', 'fontface': 'plain', \n",
    "             'nudge_x': 0, 'nudge_y': 0}\n",
    "\n",
    "        fake_data.append(dict(x=point, y=0, **d))\n",
    "        fake_data.append(dict(x=0, y=point, **d))\n",
    "\n",
    "    fake_data = pd.DataFrame(fake_data)\n",
    "    df_plot_plus_fake = pd.concat([df_plot, fake_data])\n",
    "\n",
    "        \n",
    "    return df_plot, df_plot_plus_fake"
   ]
  },
  {
   "cell_type": "code",
   "execution_count": 26,
   "metadata": {},
   "outputs": [
    {
     "name": "stdout",
     "output_type": "stream",
     "text": [
      "4 proteins out of plot limits: \n",
      "   STAG2 (x=3.5792, y=7.8352)\n",
      "   H4 (x=-7.7283, y=-5.0210)\n",
      "   H3 (x=-6.7843, y=-6.8198)\n",
      "   SPTA1 (x=5.0295, y=-0.0470)\n"
     ]
    }
   ],
   "source": [
    "CROPPED_LIMITS = np.array([-4.5, 4.5])\n",
    "CROPPED_TICKS = np.array([-4, -3, -2, -1, 0, 1, 2, 3, 4])\n",
    "CROPPED_PLOT_OUTPUT = os.path.join(OUTPUT_DIR, 'figure.cropped.pdf')\n",
    "CROPPED_PLOT_INTERESTING_ONLY = os.path.join(OUTPUT_DIR, 'figure.cropped.interesting.labels.pdf')\n",
    "CROPPED_PLOT_OUTPUT_NOLABELS = os.path.join(OUTPUT_DIR, 'figure.cropped.nolabels.pdf')\n",
    "CROPPED_PLOT_OUTPUT_TRANSPARENCY = os.path.join(OUTPUT_DIR, 'figure.transparency.nolabels.pdf')\n",
    "\n",
    "cropped_df, cropped_df_plus_fake = prepare_data_for_plot(limits=CROPPED_LIMITS)"
   ]
  },
  {
   "cell_type": "code",
   "execution_count": 27,
   "metadata": {},
   "outputs": [
    {
     "data": {
      "image/png": "[encoded data removed]",
      "text/plain": [
       "<matplotlib.figure.Figure at 0x7f7eeadfab70>"
      ]
     },
     "metadata": {
      "image/png": {
       "height": 409,
       "width": 408
      }
     },
     "output_type": "display_data"
    }
   ],
   "source": [
    "# based on https://github.com/mwaskom/seaborn/issues/1194\n",
    "def marginal_boxplot(a, vertical=False, **kws):\n",
    "    g = sns.boxplot(y='y', orient='v', **kws) if vertical else sns.boxplot(x='x', orient='h', **kws)\n",
    "    g.set_ylabel('')\n",
    "    g.set_xlabel('')\n",
    "    \n",
    "grid = sns.JointGrid(x='x', y='y', data=cropped_df)\n",
    "\n",
    "\n",
    "grid.plot_marginals(marginal_boxplot, data=cropped_df, linewidth=2.0)\n",
    "grid.plot_joint(sns.regplot, fit_reg=False,\n",
    "                scatter_kws={'s': 20, 'edgecolor': 'w', 'linewidth': .5, 'alpha': .8})\n",
    "\n",
    "grid.ax_joint.set_xlim(*CROPPED_LIMITS)\n",
    "grid.ax_joint.set_ylim(*CROPPED_LIMITS)\n",
    "grid.ax_joint.set_xticks(CROPPED_TICKS)\n",
    "grid.ax_joint.set_yticks(CROPPED_TICKS)\n",
    "\n",
    "grid.savefig('/output/figure.cropped.seaborn.pdf')"
   ]
  },
  {
   "cell_type": "code",
   "execution_count": 28,
   "metadata": {},
   "outputs": [],
   "source": [
    "%%R -i cropped_df -i cropped_df_plus_fake -i RANDOM_STATE -i CROPPED_LIMITS -i CROPPED_TICKS\n",
    "set.seed(RANDOM_STATE)\n",
    "\n",
    "base_size <- 6\n",
    "label_size <- 1.5\n",
    "point_size <- 0.2\n",
    "line_width <- 1\n",
    "tick_length_cm <- 0.1\n",
    "tick_width <- 0.5\n",
    "axes_line_width <- 0.5\n",
    "boxplot_lwd <- 0.2\n",
    "boxplot_outlier_size <- 0.1\n",
    "repel_segment_size <- 0.05\n",
    "box_padding <- 0.01\n",
    "point_padding <- point_size / 3.14\n",
    "max.iter <- 20000\n",
    "segment_line_color=NA\n",
    "\n",
    "p <- scatterplot(cropped_df, cropped_df_plus_fake, limits=CROPPED_LIMITS, ticks=CROPPED_TICKS, \n",
    "                 base_size=base_size, \n",
    "                 label_size=label_size,\n",
    "                 point_size=point_size,\n",
    "                 line_width=line_width,\n",
    "                 axes_line_width=axes_line_width,\n",
    "                 tick_length_cm=tick_length_cm,\n",
    "                 boxplot_lwd=boxplot_lwd,\n",
    "                 label_column='label_fancy',\n",
    "                 repel_segment_size=repel_segment_size,\n",
    "                 boxplot_outlier_size=boxplot_outlier_size,\n",
    "                 tick_width = tick_width,\n",
    "                 box_padding = box_padding,\n",
    "                 point_padding = point_padding,\n",
    "                 max.iter = max.iter,\n",
    "                 segment_line_color=segment_line_color,\n",
    "                 nudge_x=cropped_df[,'nudge_x'],\n",
    "                 nudge_y=cropped_df[,'nudge_y'],\n",
    "                 repel=TRUE\n",
    "                 )\n",
    "\n",
    "ggsave('/output/figure.cropped.2inx2in.annotated.only.pdf', plot=p, width=2, height=2, units=\"in\")\n",
    "\n",
    "p2 <- scatterplot(cropped_df, cropped_df_plus_fake, limits=CROPPED_LIMITS, ticks=CROPPED_TICKS, \n",
    "                 base_size=base_size, \n",
    "                 label_size=label_size,\n",
    "                 point_size=point_size,\n",
    "                 line_width=line_width,\n",
    "                 axes_line_width=axes_line_width,\n",
    "                 tick_length_cm=tick_length_cm,\n",
    "                 boxplot_lwd=boxplot_lwd,\n",
    "                 label_column='label_all',\n",
    "                 repel_segment_size=repel_segment_size,\n",
    "                 boxplot_outlier_size=boxplot_outlier_size,\n",
    "                 tick_width = tick_width,\n",
    "                 box_padding = box_padding,\n",
    "                 point_padding = point_padding,\n",
    "                 max.iter = max.iter,\n",
    "                 segment_line_color=segment_line_color,\n",
    "                 nudge_x=cropped_df[,'nudge_x'],\n",
    "                 nudge_y=cropped_df[,'nudge_y'],\n",
    "                 )\n",
    "\n",
    "ggsave('/output/figure.cropped.2inx2in.all.pdf', plot=p2, width=2, height=2, units=\"in\")\n",
    "\n",
    "p3 <- scatterplot(cropped_df, cropped_df_plus_fake, limits=CROPPED_LIMITS, ticks=CROPPED_TICKS, \n",
    "                 base_size=base_size, \n",
    "                 label_size=NA,\n",
    "                 point_size=point_size,\n",
    "                 line_width=line_width,\n",
    "                 axes_line_width=axes_line_width,\n",
    "                 tick_length_cm=tick_length_cm,\n",
    "                 boxplot_lwd=boxplot_lwd,\n",
    "                 label_column='label_fancy',\n",
    "                 repel_segment_size=repel_segment_size,\n",
    "                 boxplot_outlier_size=boxplot_outlier_size,\n",
    "                 tick_width = tick_width,\n",
    "                 box_padding = box_padding,\n",
    "                 point_padding = point_padding,\n",
    "                 max.iter = max.iter\n",
    "                 )\n",
    "\n",
    "ggsave('/output/figure.cropped.2inx2in.nolabels.pdf', plot=p3, width=2, height=2, units=\"in\")\n",
    "\n",
    "p4 <- scatterplot(cropped_df, cropped_df_plus_fake, limits=CROPPED_LIMITS, ticks=CROPPED_TICKS, \n",
    "                 base_size=base_size, \n",
    "                 label_size=NA,\n",
    "                 point_size=point_size,\n",
    "                 line_width=line_width,\n",
    "                 axes_line_width=axes_line_width,\n",
    "                 tick_length_cm=tick_length_cm,\n",
    "                 boxplot_lwd=boxplot_lwd,\n",
    "                 label_column='label_fancy',\n",
    "                 repel_segment_size=repel_segment_size,\n",
    "                 boxplot_outlier_size=boxplot_outlier_size,\n",
    "                 tick_width = tick_width,\n",
    "                 box_padding = box_padding,\n",
    "                 point_padding = point_padding,\n",
    "                 max.iter = max.iter,\n",
    "                 alpha=0.05,\n",
    "                 )\n",
    "\n",
    "ggsave('/output/figure.cropped.2inx2in.nolabels.transparent.pdf', plot=p4, width=2, height=2, units=\"in\")"
   ]
  },
  {
   "cell_type": "code",
   "execution_count": 29,
   "metadata": {},
   "outputs": [
    {
     "data": {
      "text/html": [
       "<div>\n",
       "<style>\n",
       "    .dataframe thead tr:only-child th {\n",
       "        text-align: right;\n",
       "    }\n",
       "\n",
       "    .dataframe thead th {\n",
       "        text-align: left;\n",
       "    }\n",
       "\n",
       "    .dataframe tbody tr th {\n",
       "        vertical-align: top;\n",
       "    }\n",
       "</style>\n",
       "<table border=\"1\" class=\"dataframe\">\n",
       "  <thead>\n",
       "    <tr style=\"text-align: right;\">\n",
       "      <th></th>\n",
       "      <th>x</th>\n",
       "      <th>y</th>\n",
       "      <th>label</th>\n",
       "      <th>group</th>\n",
       "      <th>gene</th>\n",
       "      <th>ank_repeat</th>\n",
       "      <th>label_fancy</th>\n",
       "      <th>label_normal</th>\n",
       "      <th>label_all</th>\n",
       "      <th>fontface</th>\n",
       "      <th>nudge_x</th>\n",
       "      <th>nudge_y</th>\n",
       "    </tr>\n",
       "    <tr>\n",
       "      <th>Protein IDs</th>\n",
       "      <th></th>\n",
       "      <th></th>\n",
       "      <th></th>\n",
       "      <th></th>\n",
       "      <th></th>\n",
       "      <th></th>\n",
       "      <th></th>\n",
       "      <th></th>\n",
       "      <th></th>\n",
       "      <th></th>\n",
       "      <th></th>\n",
       "      <th></th>\n",
       "    </tr>\n",
       "  </thead>\n",
       "  <tbody>\n",
       "    <tr>\n",
       "      <th>P38398;Q5YLB2;A0A0U1RRA9;E9PH68;E7EWN5;Q3B891;E7EUM2;A0A0A0MSN1;E7ENB7;C9IZW4;E7EQW4;E9PC22;H0Y8D8;B7ZA85;G1UI37;K7EPC7;H0Y8B8;H0Y850</th>\n",
       "      <td>-1.358380</td>\n",
       "      <td>1.373063</td>\n",
       "      <td>BRCA1</td>\n",
       "      <td>BRCA1</td>\n",
       "      <td>BRCA1</td>\n",
       "      <td>False</td>\n",
       "      <td>BRCA1</td>\n",
       "      <td></td>\n",
       "      <td>BRCA1</td>\n",
       "      <td>plain</td>\n",
       "      <td>0.00</td>\n",
       "      <td>0.43</td>\n",
       "    </tr>\n",
       "    <tr>\n",
       "      <th>A0A087WZR3;H9KVA9;A0A0D9SF50;P46736;X6RJS7</th>\n",
       "      <td>-1.023534</td>\n",
       "      <td>1.264596</td>\n",
       "      <td>BRCC36</td>\n",
       "      <td>BRCA1</td>\n",
       "      <td>BRCC3</td>\n",
       "      <td>False</td>\n",
       "      <td>BRCC36</td>\n",
       "      <td></td>\n",
       "      <td>BRCC36</td>\n",
       "      <td>plain</td>\n",
       "      <td>0.35</td>\n",
       "      <td>0.83</td>\n",
       "    </tr>\n",
       "    <tr>\n",
       "      <th>Q9NXR7;F8W733;C9J2G0;A0A075B7D2</th>\n",
       "      <td>-0.874005</td>\n",
       "      <td>1.125585</td>\n",
       "      <td>BRCC45</td>\n",
       "      <td>BRCA1</td>\n",
       "      <td>BRE</td>\n",
       "      <td>False</td>\n",
       "      <td>BRCC45</td>\n",
       "      <td></td>\n",
       "      <td>BRCC45</td>\n",
       "      <td>plain</td>\n",
       "      <td>0.20</td>\n",
       "      <td>0.40</td>\n",
       "    </tr>\n",
       "  </tbody>\n",
       "</table>\n",
       "</div>"
      ],
      "text/plain": [
       "                                                           x         y  \\\n",
       "Protein IDs                                                              \n",
       "P38398;Q5YLB2;A0A0U1RRA9;E9PH68;E7EWN5;Q3B891;E... -1.358380  1.373063   \n",
       "A0A087WZR3;H9KVA9;A0A0D9SF50;P46736;X6RJS7         -1.023534  1.264596   \n",
       "Q9NXR7;F8W733;C9J2G0;A0A075B7D2                    -0.874005  1.125585   \n",
       "\n",
       "                                                     label  group   gene  \\\n",
       "Protein IDs                                                                \n",
       "P38398;Q5YLB2;A0A0U1RRA9;E9PH68;E7EWN5;Q3B891;E...   BRCA1  BRCA1  BRCA1   \n",
       "A0A087WZR3;H9KVA9;A0A0D9SF50;P46736;X6RJS7          BRCC36  BRCA1  BRCC3   \n",
       "Q9NXR7;F8W733;C9J2G0;A0A075B7D2                     BRCC45  BRCA1    BRE   \n",
       "\n",
       "                                                    ank_repeat label_fancy  \\\n",
       "Protein IDs                                                                  \n",
       "P38398;Q5YLB2;A0A0U1RRA9;E9PH68;E7EWN5;Q3B891;E...       False       BRCA1   \n",
       "A0A087WZR3;H9KVA9;A0A0D9SF50;P46736;X6RJS7               False      BRCC36   \n",
       "Q9NXR7;F8W733;C9J2G0;A0A075B7D2                          False      BRCC45   \n",
       "\n",
       "                                                   label_normal label_all  \\\n",
       "Protein IDs                                                                 \n",
       "P38398;Q5YLB2;A0A0U1RRA9;E9PH68;E7EWN5;Q3B891;E...                  BRCA1   \n",
       "A0A087WZR3;H9KVA9;A0A0D9SF50;P46736;X6RJS7                         BRCC36   \n",
       "Q9NXR7;F8W733;C9J2G0;A0A075B7D2                                    BRCC45   \n",
       "\n",
       "                                                   fontface  nudge_x  nudge_y  \n",
       "Protein IDs                                                                    \n",
       "P38398;Q5YLB2;A0A0U1RRA9;E9PH68;E7EWN5;Q3B891;E...    plain     0.00     0.43  \n",
       "A0A087WZR3;H9KVA9;A0A0D9SF50;P46736;X6RJS7            plain     0.35     0.83  \n",
       "Q9NXR7;F8W733;C9J2G0;A0A075B7D2                       plain     0.20     0.40  "
      ]
     },
     "execution_count": 29,
     "metadata": {},
     "output_type": "execute_result"
    }
   ],
   "source": [
    "cropped_df[cropped_df['label'].isin(['BRCA1', 'BRCC36', 'BRCC45'])]"
   ]
  },
  {
   "cell_type": "markdown",
   "metadata": {},
   "source": [
    "## Plotting, full-figure"
   ]
  },
  {
   "cell_type": "code",
   "execution_count": 30,
   "metadata": {},
   "outputs": [],
   "source": [
    "\n",
    "FULL_LIMITS = np.array([-8.5, 8.5])\n",
    "FULL_TICKS = np.arange(-8, 9, 2, dtype=int)\n",
    "\n",
    "\n",
    "FULL_PLOT_OUTPUT = os.path.join(OUTPUT_DIR, 'figure.full.pdf')\n",
    "FULL_PLOT_OUTPUT_NOLABELS = os.path.join(OUTPUT_DIR, 'figure.full.nolabels.pdf')\n",
    "\n",
    "full_df, full_df_plus_fake = prepare_data_for_plot(limits=FULL_LIMITS)"
   ]
  },
  {
   "cell_type": "code",
   "execution_count": 31,
   "metadata": {},
   "outputs": [],
   "source": [
    "%%R -i full_df -i full_df_plus_fake -i RANDOM_STATE -i FULL_LIMITS -i FULL_TICKS\n",
    "set.seed(RANDOM_STATE)\n",
    "\n",
    "base_size <- 20\n",
    "label_size <- 3\n",
    "point_size <- 2.0\n",
    "line_width <- 3\n",
    "tick_length_cm <- 0.5\n",
    "tick_width <- 1.5\n",
    "axes_line_width <- 2\n",
    "boxplot_lwd <- 1.0\n",
    "boxplot_outlier_size <- point_size * 0.6\n",
    "repel_segment_size <- 0.5\n",
    "box_padding <- 0.01\n",
    "point_padding <- 0.25\n",
    "force <- 1.5\n",
    "max.iter <- 20000\n",
    "segment_line_color = 'Gray80'\n",
    "\n",
    "p <- scatterplot(full_df, full_df_plus_fake, limits=FULL_LIMITS, ticks=FULL_TICKS, \n",
    "                 base_size=base_size, \n",
    "                 label_size=label_size,\n",
    "                 point_size=point_size,\n",
    "                 line_width=line_width,\n",
    "                 axes_line_width=axes_line_width,\n",
    "                 tick_length_cm=tick_length_cm,\n",
    "                 boxplot_lwd=boxplot_lwd,\n",
    "                 label_column='label_all',\n",
    "                 repel_segment_size=repel_segment_size,\n",
    "                 boxplot_outlier_size=boxplot_outlier_size,\n",
    "                 tick_width = tick_width,\n",
    "                 box_padding = box_padding,\n",
    "                 point_padding = point_padding,\n",
    "                 max.iter = max.iter,\n",
    "                 force=force,\n",
    "                 use_fake_data=TRUE,\n",
    "                 segment_line_color=segment_line_color,\n",
    "                 )\n",
    "\n",
    "ggsave('/output/figure.full.7inx7in.pdf', plot=p, width=7, height=7, units=\"in\")\n",
    "\n",
    "p2 <- scatterplot(full_df, full_df_plus_fake, limits=FULL_LIMITS, ticks=FULL_TICKS, \n",
    "                 base_size=base_size, \n",
    "                 label_size=NA,\n",
    "                 point_size=point_size,\n",
    "                 line_width=line_width,\n",
    "                 axes_line_width=axes_line_width,\n",
    "                 tick_length_cm=tick_length_cm,\n",
    "                 boxplot_lwd=boxplot_lwd,\n",
    "                 label_column='label_all',\n",
    "                 repel_segment_size=repel_segment_size,\n",
    "                 boxplot_outlier_size=boxplot_outlier_size,\n",
    "                 tick_width = tick_width,\n",
    "                 box_padding = box_padding,\n",
    "                 point_padding = point_padding,\n",
    "                 max.iter = max.iter\n",
    "                 )\n",
    "\n",
    "ggsave('/output/figure.full.7inx7in.nolabels.pdf', plot=p2, width=7, height=7, units=\"in\")\n",
    "# ggsave('/output/figure.cropped.4cmx6cm.png', plot=p, width=4, height=6, units=\"cm\", dpi=1500)"
   ]
  },
  {
   "cell_type": "markdown",
   "metadata": {},
   "source": [
    "# Excel output"
   ]
  },
  {
   "cell_type": "code",
   "execution_count": 32,
   "metadata": {},
   "outputs": [
    {
     "data": {
      "text/plain": [
       "Index(['Label', 'Gene names', 'Protein names', 'Protein group',\n",
       "       'Contains ANK repeat', 'Potentially misidentified', 'Has both ratios',\n",
       "       'Ratio H/L normalized F (log2)', 'Ratio H/L normalized R (log2)',\n",
       "       'Best MS/MS', 'Evidence IDs', 'Fasta headers', 'Identification type F',\n",
       "       'Identification type R', 'Intensity', 'Intensity F', 'Intensity H',\n",
       "       'Intensity H F', 'Intensity H R', 'Intensity L', 'Intensity L F',\n",
       "       'Intensity L R', 'Intensity R', 'LFQ intensity H F',\n",
       "       'LFQ intensity H R', 'LFQ intensity L F', 'LFQ intensity L R',\n",
       "       'MS/MS IDs', 'Majority protein IDs', 'Mod. peptide IDs',\n",
       "       'Mol. weight [kDa]', 'Number of proteins', 'Only identified by site',\n",
       "       'Oxidation (M) site IDs', 'Oxidation (M) site positions', 'Peptide IDs',\n",
       "       'Peptide counts (all)', 'Peptide counts (razor+unique)',\n",
       "       'Peptide counts (unique)', 'Peptide is razor', 'Peptides', 'Peptides F',\n",
       "       'Peptides R', 'Potential contaminant', 'Q-value', 'Ratio H/L',\n",
       "       'Ratio H/L F', 'Ratio H/L R', 'Ratio H/L count', 'Ratio H/L count F',\n",
       "       'Ratio H/L count R', 'Ratio H/L iso-count', 'Ratio H/L iso-count F',\n",
       "       'Ratio H/L iso-count R', 'Ratio H/L normalized',\n",
       "       'Ratio H/L normalized F', 'Ratio H/L normalized R', 'Ratio H/L type',\n",
       "       'Ratio H/L type F', 'Ratio H/L type R', 'Ratio H/L variability [%]',\n",
       "       'Ratio H/L variability [%] F', 'Ratio H/L variability [%] R',\n",
       "       'Razor + unique peptides', 'Razor + unique peptides F',\n",
       "       'Razor + unique peptides R', 'Reverse', 'Score',\n",
       "       'Sequence coverage F [%]', 'Sequence coverage R [%]',\n",
       "       'Sequence coverage [%]', 'Sequence length', 'Sequence lengths',\n",
       "       'Unique + razor sequence coverage [%]', 'Unique peptides',\n",
       "       'Unique peptides F', 'Unique peptides R',\n",
       "       'Unique sequence coverage [%]', 'id'],\n",
       "      dtype='object')"
      ]
     },
     "execution_count": 32,
     "metadata": {},
     "output_type": "execute_result"
    }
   ],
   "source": [
    "data.columns"
   ]
  },
  {
   "cell_type": "code",
   "execution_count": 33,
   "metadata": {},
   "outputs": [],
   "source": [
    "MAIN_COLUMNS = ['Label', 'Gene names', 'Protein names', 'Majority protein IDs', 'Contains ANK repeat', \n",
    "                'Protein group',\n",
    "                'Peptides', 'Sequence coverage [%]', 'Score', \n",
    "                'Ratio H/L normalized F (log2)', \n",
    "                'Ratio H/L normalized R (log2)',\n",
    "                'Ratio H/L count F',\n",
    "                'Ratio H/L count R']\n",
    "\n",
    "SUPPLEMENTARY_EXCLUDED_COLUMNS = [\n",
    "    'Label', 'Contains ANK repeat', 'Protein group', \n",
    "    'Best MS/MS', 'Evidence IDs', 'Fasta headers', 'Mod. peptide IDs', 'Peptide IDs', 'id' \n",
    "]\n",
    "\n",
    "\n"
   ]
  },
  {
   "cell_type": "code",
   "execution_count": 34,
   "metadata": {},
   "outputs": [],
   "source": [
    "_data_reset = data.reset_index()\n",
    "excel_main_table = _data_reset[MAIN_COLUMNS]\n",
    "\n",
    "for c in SUPPLEMENTARY_EXCLUDED_COLUMNS:\n",
    "    assert c in _data_reset.columns\n",
    "    \n",
    "excel_supplementary_table = _data_reset[_data_reset.columns.difference(SUPPLEMENTARY_EXCLUDED_COLUMNS)]"
   ]
  },
  {
   "cell_type": "code",
   "execution_count": 35,
   "metadata": {},
   "outputs": [],
   "source": [
    "from xlsxwriter.utility import xl_rowcol_to_cell, xl_col_to_name"
   ]
  },
  {
   "cell_type": "code",
   "execution_count": 36,
   "metadata": {},
   "outputs": [],
   "source": [
    "# Copy this from scatterplot.R\n",
    "group_colours = {\n",
    "   # \"Other\":'black',\n",
    "    \"TONSL\":\"#7570b3\",\n",
    "    \"BRCA1\":'#d95f02',\n",
    "    \"RAD18/SLF\":'#66a61e',\n",
    "    \"ORC\":'#e7298a',\n",
    "}"
   ]
  },
  {
   "cell_type": "code",
   "execution_count": 37,
   "metadata": {},
   "outputs": [
    {
     "name": "stdout",
     "output_type": "stream",
     "text": [
      "J2 K1336\n",
      "7.83516615722\n"
     ]
    }
   ],
   "source": [
    "writer = pd.ExcelWriter(os.path.join(OUTPUT_DIR, 'dataset.xlsx'), engine='xlsxwriter')\n",
    "\n",
    "# Write data, without headers\n",
    "excel_main_table.to_excel(writer, sheet_name='H4K20me2 pull-down', index=False, header=False, startrow=1)\n",
    "excel_supplementary_table.to_excel(writer, sheet_name='Additional information', index=False, header=False, startrow=1)\n",
    "\n",
    "# Get variables\n",
    "workbook = writer.book\n",
    "main_sheet = writer.sheets['H4K20me2 pull-down']\n",
    "supplementary_sheet = writer.sheets['Additional information']\n",
    "\n",
    "# Add headers ourselves (so we can control formatting)\n",
    "header = workbook.add_format({'bold': True, 'text_wrap': True})\n",
    "for i, col in enumerate(excel_main_table.columns):\n",
    "    main_sheet.write(0, i, col, header)\n",
    "for i, col in enumerate(excel_supplementary_table.columns):\n",
    "    supplementary_sheet.write(0, i, col, header)\n",
    "\n",
    "\n",
    "# Conditional formatting: bold ANK repeat containing datasets, colour rows by group\n",
    "whole_data_start = 'A2'\n",
    "last_row = len(excel_main_table)\n",
    "whole_data_end = xl_rowcol_to_cell(last_row, len(excel_main_table.columns)-1)\n",
    "ank_repeat_column = xl_col_to_name(list(excel_main_table.columns).index(COL_ANK_REPEAT))\n",
    "group_column = xl_col_to_name(list(excel_main_table.columns).index(COL_GROUP))\n",
    "\n",
    "format_bold = workbook.add_format({'bold': True})\n",
    "format_groups = {group: workbook.add_format({'bg_color': colour}) for group, colour in group_colours.items()}\n",
    "\n",
    "# ANK repeats\n",
    "main_sheet.conditional_format(':'.join([whole_data_start, whole_data_end]),\n",
    "                             {'type': 'formula',\n",
    "                              'criteria': '=${}2=TRUE'.format(ank_repeat_column),\n",
    "                              'format': format_bold})\n",
    "\n",
    "# Groups\n",
    "for group, format_ in format_groups.items():\n",
    "    main_sheet.conditional_format('{0}2:{0}{1}'.format(group_column, last_row),\n",
    "                                 {'type': 'formula',\n",
    "                                  'criteria': '=${}2=\"{}\"'.format(group_column, group),\n",
    "                                  'format': format_})\n",
    "\n",
    "\n",
    "\n",
    "ratio_cf_start =  xl_rowcol_to_cell(1, list(excel_main_table.columns).index(COL_RATIO_LOG2_FORWARD),)\n",
    "ratio_cf_end =  xl_rowcol_to_cell(last_row, list(excel_main_table.columns).index(COL_RATIO_LOG2_REVERSE))\n",
    "print(ratio_cf_start, ratio_cf_end)\n",
    "max_val = excel_main_table[[COL_RATIO_LOG2_FORWARD, COL_RATIO_LOG2_REVERSE]].abs().max().max()\n",
    "print(max_val)\n",
    "\n",
    "max_color, mid_color, min_color = sns.color_palette('RdBu', 3).as_hex()\n",
    "main_sheet.conditional_format(':'.join([ratio_cf_start, ratio_cf_end]), \n",
    "                             {'type':     '3_color_scale',\n",
    "                              'mid_value': 0,\n",
    "                              'mid_type': 'num',\n",
    "                              'min_type': 'num',\n",
    "                              'max_type': 'num',\n",
    "                              'min_value': -max_val,\n",
    "                              'max_value': max_val,\n",
    "                              'min_color': min_color,\n",
    "                              'max_color': max_color,\n",
    "                              'mid_color': mid_color\n",
    "                              })\n",
    "\n",
    "\n",
    "COLUMN_WIDTHS = {'Gene names': 20,\n",
    "                 'Protein names': 40}\n",
    "\n",
    "\n",
    "for column, new_width in COLUMN_WIDTHS.items():\n",
    "    index = list(excel_main_table.columns).index(column)\n",
    "    \n",
    "    main_sheet.set_column(index, index, new_width)\n",
    "\n",
    "writer.save()"
   ]
  },
  {
   "cell_type": "code",
   "execution_count": 38,
   "metadata": {},
   "outputs": [
    {
     "data": {
      "text/plain": [
       "{'Additional information': <xlsxwriter.worksheet.Worksheet at 0x7f7eeb5199e8>,\n",
       " 'H4K20me2 pull-down': <xlsxwriter.worksheet.Worksheet at 0x7f7ee04b6f60>}"
      ]
     },
     "execution_count": 38,
     "metadata": {},
     "output_type": "execute_result"
    }
   ],
   "source": [
    "writer.sheets"
   ]
  },
  {
   "cell_type": "code",
   "execution_count": null,
   "metadata": {},
   "outputs": [],
   "source": []
  }
 ],
 "metadata": {
  "hide_input": false,
  "kernelspec": {
   "display_name": "Python 3",
   "language": "python",
   "name": "python3"
  },
  "language_info": {
   "codemirror_mode": {
    "name": "ipython",
    "version": 3
   },
   "file_extension": ".py",
   "mimetype": "text/x-python",
   "name": "python",
   "nbconvert_exporter": "python",
   "pygments_lexer": "ipython3",
   "version": "3.6.3"
  },
  "latex_envs": {
   "bibliofile": "biblio.bib",
   "cite_by": "apalike",
   "current_citInitial": 1,
   "eqLabelWithNumbers": true,
   "eqNumInitial": 0
  }
 },
 "nbformat": 4,
 "nbformat_minor": 2
}
